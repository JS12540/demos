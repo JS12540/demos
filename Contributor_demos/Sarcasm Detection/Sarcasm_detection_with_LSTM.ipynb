{
  "cells": [
    {
      "cell_type": "markdown",
      "metadata": {
        "id": "Q2MY4-M1zuhV"
      },
      "source": [
        "\n",
        "\n",
        "# Training a Sarcasm Detection Model using LSTM\n"
      ]
    },
    {
      "cell_type": "markdown",
      "metadata": {},
      "source": [
        "## Install the required libraries"
      ]
    },
    {
      "cell_type": "code",
      "execution_count": 18,
      "metadata": {},
      "outputs": [
        {
          "name": "stdout",
          "output_type": "stream",
          "text": [
            "\u001b[33mWARNING: Skipping /opt/homebrew/lib/python3.11/site-packages/numpy-1.26.3.dist-info due to invalid metadata entry 'name'\u001b[0m\u001b[33m\n",
            "\u001b[0m\u001b[33mWARNING: Skipping /opt/homebrew/lib/python3.11/site-packages/numpy-1.26.4.dist-info due to invalid metadata entry 'name'\u001b[0m\u001b[33m\n",
            "\u001b[0m\u001b[33mWARNING: Skipping /opt/homebrew/lib/python3.11/site-packages/numpy-1.26.3.dist-info due to invalid metadata entry 'name'\u001b[0m\u001b[33m\n",
            "\u001b[0m\u001b[33mWARNING: Skipping /opt/homebrew/lib/python3.11/site-packages/numpy-1.26.4.dist-info due to invalid metadata entry 'name'\u001b[0m\u001b[33m\n",
            "\u001b[0m\u001b[33mWARNING: Skipping /opt/homebrew/lib/python3.11/site-packages/protobuf-4.23.2-py3.11.egg-info due to invalid metadata entry 'name'\u001b[0m\u001b[33m\n",
            "\u001b[0m\u001b[33mWARNING: Skipping /opt/homebrew/lib/python3.11/site-packages/protobuf-4.22.5-py3.11.egg-info due to invalid metadata entry 'name'\u001b[0m\u001b[33m\n",
            "\u001b[0mRequirement already satisfied: torch in /opt/homebrew/lib/python3.11/site-packages (from -r requirements.txt (line 1)) (2.2.1)\n",
            "Requirement already satisfied: tensorflow in /opt/homebrew/lib/python3.11/site-packages (from -r requirements.txt (line 2)) (2.15.0)\n",
            "Requirement already satisfied: ivy in /opt/homebrew/lib/python3.11/site-packages (from -r requirements.txt (line 3)) (0.0.4.0)\n",
            "Requirement already satisfied: matplotlib in /opt/homebrew/lib/python3.11/site-packages (from -r requirements.txt (line 4)) (3.8.0)\n",
            "Requirement already satisfied: filelock in /opt/homebrew/lib/python3.11/site-packages (from torch->-r requirements.txt (line 1)) (3.9.0)\n",
            "Requirement already satisfied: typing-extensions>=4.8.0 in /opt/homebrew/lib/python3.11/site-packages (from torch->-r requirements.txt (line 1)) (4.9.0)\n",
            "Requirement already satisfied: sympy in /opt/homebrew/lib/python3.11/site-packages (from torch->-r requirements.txt (line 1)) (1.12)\n",
            "Requirement already satisfied: networkx in /opt/homebrew/lib/python3.11/site-packages (from torch->-r requirements.txt (line 1)) (3.1)\n",
            "Requirement already satisfied: jinja2 in /Users/nripeshniketan/Library/Python/3.11/lib/python/site-packages (from torch->-r requirements.txt (line 1)) (3.1.2)\n",
            "Requirement already satisfied: fsspec in /opt/homebrew/lib/python3.11/site-packages (from torch->-r requirements.txt (line 1)) (2024.2.0)\n",
            "Requirement already satisfied: tensorflow-macos==2.15.0 in /opt/homebrew/lib/python3.11/site-packages (from tensorflow->-r requirements.txt (line 2)) (2.15.0)\n",
            "Requirement already satisfied: absl-py>=1.0.0 in /opt/homebrew/lib/python3.11/site-packages (from tensorflow-macos==2.15.0->tensorflow->-r requirements.txt (line 2)) (2.1.0)\n",
            "Requirement already satisfied: astunparse>=1.6.0 in /opt/homebrew/lib/python3.11/site-packages (from tensorflow-macos==2.15.0->tensorflow->-r requirements.txt (line 2)) (1.6.3)\n",
            "Requirement already satisfied: flatbuffers>=23.5.26 in /opt/homebrew/lib/python3.11/site-packages (from tensorflow-macos==2.15.0->tensorflow->-r requirements.txt (line 2)) (23.5.26)\n",
            "Requirement already satisfied: gast!=0.5.0,!=0.5.1,!=0.5.2,>=0.2.1 in /opt/homebrew/lib/python3.11/site-packages (from tensorflow-macos==2.15.0->tensorflow->-r requirements.txt (line 2)) (0.5.4)\n",
            "Requirement already satisfied: google-pasta>=0.1.1 in /opt/homebrew/lib/python3.11/site-packages (from tensorflow-macos==2.15.0->tensorflow->-r requirements.txt (line 2)) (0.2.0)\n",
            "Requirement already satisfied: h5py>=2.9.0 in /opt/homebrew/lib/python3.11/site-packages (from tensorflow-macos==2.15.0->tensorflow->-r requirements.txt (line 2)) (3.10.0)\n",
            "Requirement already satisfied: libclang>=13.0.0 in /opt/homebrew/lib/python3.11/site-packages (from tensorflow-macos==2.15.0->tensorflow->-r requirements.txt (line 2)) (16.0.6)\n",
            "Requirement already satisfied: ml-dtypes~=0.2.0 in /opt/homebrew/lib/python3.11/site-packages (from tensorflow-macos==2.15.0->tensorflow->-r requirements.txt (line 2)) (0.2.0)\n",
            "Requirement already satisfied: numpy<2.0.0,>=1.23.5 in /opt/homebrew/lib/python3.11/site-packages (from tensorflow-macos==2.15.0->tensorflow->-r requirements.txt (line 2)) (1.25.2)\n",
            "Requirement already satisfied: opt-einsum>=2.3.2 in /opt/homebrew/lib/python3.11/site-packages (from tensorflow-macos==2.15.0->tensorflow->-r requirements.txt (line 2)) (3.3.0)\n",
            "Requirement already satisfied: packaging in /opt/homebrew/lib/python3.11/site-packages (from tensorflow-macos==2.15.0->tensorflow->-r requirements.txt (line 2)) (23.2)\n",
            "Requirement already satisfied: protobuf!=4.21.0,!=4.21.1,!=4.21.2,!=4.21.3,!=4.21.4,!=4.21.5,<5.0.0dev,>=3.20.3 in /opt/homebrew/lib/python3.11/site-packages (from tensorflow-macos==2.15.0->tensorflow->-r requirements.txt (line 2)) (4.25.3)\n",
            "Requirement already satisfied: setuptools in /opt/homebrew/lib/python3.11/site-packages (from tensorflow-macos==2.15.0->tensorflow->-r requirements.txt (line 2)) (69.1.1)\n",
            "Requirement already satisfied: six>=1.12.0 in /opt/homebrew/lib/python3.11/site-packages (from tensorflow-macos==2.15.0->tensorflow->-r requirements.txt (line 2)) (1.16.0)\n",
            "Requirement already satisfied: termcolor>=1.1.0 in /opt/homebrew/lib/python3.11/site-packages (from tensorflow-macos==2.15.0->tensorflow->-r requirements.txt (line 2)) (2.4.0)\n",
            "Collecting wrapt<1.15,>=1.11.0 (from tensorflow-macos==2.15.0->tensorflow->-r requirements.txt (line 2))\n",
            "  Downloading wrapt-1.14.1-cp311-cp311-macosx_11_0_arm64.whl.metadata (6.7 kB)\n",
            "Requirement already satisfied: tensorflow-io-gcs-filesystem>=0.23.1 in /opt/homebrew/lib/python3.11/site-packages (from tensorflow-macos==2.15.0->tensorflow->-r requirements.txt (line 2)) (0.36.0)\n",
            "Requirement already satisfied: grpcio<2.0,>=1.24.3 in /opt/homebrew/lib/python3.11/site-packages (from tensorflow-macos==2.15.0->tensorflow->-r requirements.txt (line 2)) (1.62.0)\n",
            "Requirement already satisfied: tensorboard<2.16,>=2.15 in /opt/homebrew/lib/python3.11/site-packages (from tensorflow-macos==2.15.0->tensorflow->-r requirements.txt (line 2)) (2.15.2)\n",
            "Requirement already satisfied: tensorflow-estimator<2.16,>=2.15.0 in /opt/homebrew/lib/python3.11/site-packages (from tensorflow-macos==2.15.0->tensorflow->-r requirements.txt (line 2)) (2.15.0)\n",
            "Requirement already satisfied: keras<2.16,>=2.15.0 in /opt/homebrew/lib/python3.11/site-packages (from tensorflow-macos==2.15.0->tensorflow->-r requirements.txt (line 2)) (2.15.0)\n",
            "Requirement already satisfied: einops in /opt/homebrew/lib/python3.11/site-packages (from ivy->-r requirements.txt (line 3)) (0.7.0)\n",
            "Requirement already satisfied: psutil in /opt/homebrew/lib/python3.11/site-packages (from ivy->-r requirements.txt (line 3)) (5.9.8)\n",
            "Requirement already satisfied: colorama in /opt/homebrew/lib/python3.11/site-packages (from ivy->-r requirements.txt (line 3)) (0.4.6)\n",
            "Requirement already satisfied: nvidia-ml-py in /opt/homebrew/lib/python3.11/site-packages (from ivy->-r requirements.txt (line 3)) (12.535.108)\n",
            "Requirement already satisfied: diskcache in /opt/homebrew/lib/python3.11/site-packages (from ivy->-r requirements.txt (line 3)) (5.6.3)\n",
            "Requirement already satisfied: google-auth in /opt/homebrew/lib/python3.11/site-packages (from ivy->-r requirements.txt (line 3)) (2.28.1)\n",
            "Requirement already satisfied: urllib3<2.0 in /opt/homebrew/lib/python3.11/site-packages (from ivy->-r requirements.txt (line 3)) (1.26.18)\n",
            "Requirement already satisfied: requests in /opt/homebrew/lib/python3.11/site-packages (from ivy->-r requirements.txt (line 3)) (2.31.0)\n",
            "Requirement already satisfied: pyvis in /opt/homebrew/lib/python3.11/site-packages (from ivy->-r requirements.txt (line 3)) (0.3.2)\n",
            "Requirement already satisfied: dill in /opt/homebrew/lib/python3.11/site-packages (from ivy->-r requirements.txt (line 3)) (0.3.8)\n",
            "Requirement already satisfied: cloudpickle in /opt/homebrew/lib/python3.11/site-packages (from ivy->-r requirements.txt (line 3)) (3.0.0)\n",
            "Requirement already satisfied: tqdm in /opt/homebrew/lib/python3.11/site-packages (from ivy->-r requirements.txt (line 3)) (4.66.2)\n",
            "Requirement already satisfied: contourpy>=1.0.1 in /opt/homebrew/lib/python3.11/site-packages (from matplotlib->-r requirements.txt (line 4)) (1.2.0)\n",
            "Requirement already satisfied: cycler>=0.10 in /opt/homebrew/lib/python3.11/site-packages (from matplotlib->-r requirements.txt (line 4)) (0.12.1)\n",
            "Requirement already satisfied: fonttools>=4.22.0 in /opt/homebrew/lib/python3.11/site-packages (from matplotlib->-r requirements.txt (line 4)) (4.49.0)\n",
            "Requirement already satisfied: kiwisolver>=1.0.1 in /opt/homebrew/lib/python3.11/site-packages (from matplotlib->-r requirements.txt (line 4)) (1.4.5)\n",
            "Requirement already satisfied: pillow>=6.2.0 in /opt/homebrew/lib/python3.11/site-packages (from matplotlib->-r requirements.txt (line 4)) (10.0.1)\n",
            "Requirement already satisfied: pyparsing>=2.3.1 in /opt/homebrew/lib/python3.11/site-packages (from matplotlib->-r requirements.txt (line 4)) (3.1.1)\n",
            "Requirement already satisfied: python-dateutil>=2.7 in /opt/homebrew/lib/python3.11/site-packages (from matplotlib->-r requirements.txt (line 4)) (2.8.2)\n",
            "Requirement already satisfied: wheel<1.0,>=0.23.0 in /opt/homebrew/lib/python3.11/site-packages (from astunparse>=1.6.0->tensorflow-macos==2.15.0->tensorflow->-r requirements.txt (line 2)) (0.42.0)\n",
            "Requirement already satisfied: cachetools<6.0,>=2.0.0 in /opt/homebrew/lib/python3.11/site-packages (from google-auth->ivy->-r requirements.txt (line 3)) (5.3.2)\n",
            "Requirement already satisfied: pyasn1-modules>=0.2.1 in /opt/homebrew/lib/python3.11/site-packages (from google-auth->ivy->-r requirements.txt (line 3)) (0.3.0)\n",
            "Requirement already satisfied: rsa<5,>=3.1.4 in /opt/homebrew/lib/python3.11/site-packages (from google-auth->ivy->-r requirements.txt (line 3)) (4.9)\n",
            "Requirement already satisfied: MarkupSafe>=2.0 in /opt/homebrew/lib/python3.11/site-packages (from jinja2->torch->-r requirements.txt (line 1)) (2.1.3)\n",
            "Requirement already satisfied: ipython>=5.3.0 in /opt/homebrew/lib/python3.11/site-packages (from pyvis->ivy->-r requirements.txt (line 3)) (8.22.1)\n",
            "Requirement already satisfied: jsonpickle>=1.4.1 in /opt/homebrew/lib/python3.11/site-packages (from pyvis->ivy->-r requirements.txt (line 3)) (3.0.2)\n",
            "Requirement already satisfied: charset-normalizer<4,>=2 in /opt/homebrew/lib/python3.11/site-packages (from requests->ivy->-r requirements.txt (line 3)) (3.3.2)\n",
            "Requirement already satisfied: idna<4,>=2.5 in /opt/homebrew/lib/python3.11/site-packages (from requests->ivy->-r requirements.txt (line 3)) (3.6)\n",
            "Requirement already satisfied: certifi>=2017.4.17 in /opt/homebrew/lib/python3.11/site-packages (from requests->ivy->-r requirements.txt (line 3)) (2024.2.2)\n",
            "Requirement already satisfied: mpmath>=0.19 in /opt/homebrew/lib/python3.11/site-packages (from sympy->torch->-r requirements.txt (line 1)) (1.3.0)\n",
            "Requirement already satisfied: decorator in /Users/nripeshniketan/Library/Python/3.11/lib/python/site-packages (from ipython>=5.3.0->pyvis->ivy->-r requirements.txt (line 3)) (5.1.1)\n",
            "Requirement already satisfied: jedi>=0.16 in /opt/homebrew/lib/python3.11/site-packages (from ipython>=5.3.0->pyvis->ivy->-r requirements.txt (line 3)) (0.19.1)\n",
            "Requirement already satisfied: matplotlib-inline in /Users/nripeshniketan/Library/Python/3.11/lib/python/site-packages (from ipython>=5.3.0->pyvis->ivy->-r requirements.txt (line 3)) (0.1.6)\n",
            "Requirement already satisfied: prompt-toolkit<3.1.0,>=3.0.41 in /opt/homebrew/lib/python3.11/site-packages (from ipython>=5.3.0->pyvis->ivy->-r requirements.txt (line 3)) (3.0.43)\n",
            "Requirement already satisfied: pygments>=2.4.0 in /opt/homebrew/lib/python3.11/site-packages (from ipython>=5.3.0->pyvis->ivy->-r requirements.txt (line 3)) (2.17.2)\n",
            "Requirement already satisfied: stack-data in /opt/homebrew/lib/python3.11/site-packages (from ipython>=5.3.0->pyvis->ivy->-r requirements.txt (line 3)) (0.6.3)\n",
            "Requirement already satisfied: traitlets>=5.13.0 in /opt/homebrew/lib/python3.11/site-packages (from ipython>=5.3.0->pyvis->ivy->-r requirements.txt (line 3)) (5.14.1)\n",
            "Requirement already satisfied: pexpect>4.3 in /Users/nripeshniketan/Library/Python/3.11/lib/python/site-packages (from ipython>=5.3.0->pyvis->ivy->-r requirements.txt (line 3)) (4.8.0)\n",
            "Requirement already satisfied: pyasn1<0.6.0,>=0.4.6 in /opt/homebrew/lib/python3.11/site-packages (from pyasn1-modules>=0.2.1->google-auth->ivy->-r requirements.txt (line 3)) (0.5.1)\n",
            "Requirement already satisfied: google-auth-oauthlib<2,>=0.5 in /opt/homebrew/lib/python3.11/site-packages (from tensorboard<2.16,>=2.15->tensorflow-macos==2.15.0->tensorflow->-r requirements.txt (line 2)) (1.2.0)\n",
            "Requirement already satisfied: markdown>=2.6.8 in /opt/homebrew/lib/python3.11/site-packages (from tensorboard<2.16,>=2.15->tensorflow-macos==2.15.0->tensorflow->-r requirements.txt (line 2)) (3.4.4)\n",
            "Requirement already satisfied: tensorboard-data-server<0.8.0,>=0.7.0 in /opt/homebrew/lib/python3.11/site-packages (from tensorboard<2.16,>=2.15->tensorflow-macos==2.15.0->tensorflow->-r requirements.txt (line 2)) (0.7.2)\n",
            "Requirement already satisfied: werkzeug>=1.0.1 in /opt/homebrew/lib/python3.11/site-packages (from tensorboard<2.16,>=2.15->tensorflow-macos==2.15.0->tensorflow->-r requirements.txt (line 2)) (3.0.1)\n",
            "Requirement already satisfied: requests-oauthlib>=0.7.0 in /opt/homebrew/lib/python3.11/site-packages (from google-auth-oauthlib<2,>=0.5->tensorboard<2.16,>=2.15->tensorflow-macos==2.15.0->tensorflow->-r requirements.txt (line 2)) (1.3.1)\n",
            "Requirement already satisfied: parso<0.9.0,>=0.8.3 in /Users/nripeshniketan/Library/Python/3.11/lib/python/site-packages (from jedi>=0.16->ipython>=5.3.0->pyvis->ivy->-r requirements.txt (line 3)) (0.8.3)\n",
            "Requirement already satisfied: ptyprocess>=0.5 in /Users/nripeshniketan/Library/Python/3.11/lib/python/site-packages (from pexpect>4.3->ipython>=5.3.0->pyvis->ivy->-r requirements.txt (line 3)) (0.7.0)\n",
            "Requirement already satisfied: wcwidth in /opt/homebrew/lib/python3.11/site-packages (from prompt-toolkit<3.1.0,>=3.0.41->ipython>=5.3.0->pyvis->ivy->-r requirements.txt (line 3)) (0.2.13)\n",
            "Requirement already satisfied: executing>=1.2.0 in /opt/homebrew/lib/python3.11/site-packages (from stack-data->ipython>=5.3.0->pyvis->ivy->-r requirements.txt (line 3)) (2.0.1)\n",
            "Requirement already satisfied: asttokens>=2.1.0 in /opt/homebrew/lib/python3.11/site-packages (from stack-data->ipython>=5.3.0->pyvis->ivy->-r requirements.txt (line 3)) (2.4.1)\n",
            "Requirement already satisfied: pure-eval in /Users/nripeshniketan/Library/Python/3.11/lib/python/site-packages (from stack-data->ipython>=5.3.0->pyvis->ivy->-r requirements.txt (line 3)) (0.2.2)\n",
            "Requirement already satisfied: oauthlib>=3.0.0 in /opt/homebrew/lib/python3.11/site-packages (from requests-oauthlib>=0.7.0->google-auth-oauthlib<2,>=0.5->tensorboard<2.16,>=2.15->tensorflow-macos==2.15.0->tensorflow->-r requirements.txt (line 2)) (3.2.2)\n",
            "Downloading wrapt-1.14.1-cp311-cp311-macosx_11_0_arm64.whl (36 kB)\n",
            "\u001b[33mWARNING: Skipping /opt/homebrew/lib/python3.11/site-packages/numpy-1.26.3.dist-info due to invalid metadata entry 'name'\u001b[0m\u001b[33m\n",
            "\u001b[0m\u001b[33mWARNING: Skipping /opt/homebrew/lib/python3.11/site-packages/numpy-1.26.4.dist-info due to invalid metadata entry 'name'\u001b[0m\u001b[33m\n",
            "\u001b[0m\u001b[33mWARNING: Skipping /opt/homebrew/lib/python3.11/site-packages/protobuf-4.23.2-py3.11.egg-info due to invalid metadata entry 'name'\u001b[0m\u001b[33m\n",
            "\u001b[0m\u001b[33mWARNING: Skipping /opt/homebrew/lib/python3.11/site-packages/protobuf-4.22.5-py3.11.egg-info due to invalid metadata entry 'name'\u001b[0m\u001b[33m\n",
            "\u001b[0mInstalling collected packages: wrapt\n",
            "  Attempting uninstall: wrapt\n",
            "\u001b[33m    WARNING: Skipping /opt/homebrew/lib/python3.11/site-packages/numpy-1.26.3.dist-info due to invalid metadata entry 'name'\u001b[0m\u001b[33m\n",
            "\u001b[0m\u001b[33m    WARNING: Skipping /opt/homebrew/lib/python3.11/site-packages/numpy-1.26.4.dist-info due to invalid metadata entry 'name'\u001b[0m\u001b[33m\n",
            "\u001b[0m\u001b[33m    WARNING: Skipping /opt/homebrew/lib/python3.11/site-packages/protobuf-4.23.2-py3.11.egg-info due to invalid metadata entry 'name'\u001b[0m\u001b[33m\n",
            "\u001b[0m\u001b[33m    WARNING: Skipping /opt/homebrew/lib/python3.11/site-packages/protobuf-4.22.5-py3.11.egg-info due to invalid metadata entry 'name'\u001b[0m\u001b[33m\n",
            "\u001b[0m    Found existing installation: wrapt 1.16.0\n",
            "    Uninstalling wrapt-1.16.0:\n",
            "      Successfully uninstalled wrapt-1.16.0\n",
            "\u001b[33mWARNING: Skipping /opt/homebrew/lib/python3.11/site-packages/numpy-1.26.3.dist-info due to invalid metadata entry 'name'\u001b[0m\u001b[33m\n",
            "\u001b[0m\u001b[33mWARNING: Skipping /opt/homebrew/lib/python3.11/site-packages/numpy-1.26.4.dist-info due to invalid metadata entry 'name'\u001b[0m\u001b[33m\n",
            "\u001b[0mSuccessfully installed wrapt-1.14.1\n",
            "\u001b[33mWARNING: Skipping /opt/homebrew/lib/python3.11/site-packages/numpy-1.26.3.dist-info due to invalid metadata entry 'name'\u001b[0m\u001b[33m\n",
            "\u001b[0m\u001b[33mWARNING: Skipping /opt/homebrew/lib/python3.11/site-packages/numpy-1.26.4.dist-info due to invalid metadata entry 'name'\u001b[0m\u001b[33m\n",
            "\u001b[0m\u001b[33mWARNING: Skipping /opt/homebrew/lib/python3.11/site-packages/numpy-1.26.3.dist-info due to invalid metadata entry 'name'\u001b[0m\u001b[33m\n",
            "\u001b[0m\u001b[33mWARNING: Skipping /opt/homebrew/lib/python3.11/site-packages/numpy-1.26.4.dist-info due to invalid metadata entry 'name'\u001b[0m\u001b[33m\n",
            "\u001b[0m\u001b[33mWARNING: Skipping /opt/homebrew/lib/python3.11/site-packages/numpy-1.26.3.dist-info due to invalid metadata entry 'name'\u001b[0m\u001b[33m\n",
            "\u001b[0m\u001b[33mWARNING: Skipping /opt/homebrew/lib/python3.11/site-packages/numpy-1.26.4.dist-info due to invalid metadata entry 'name'\u001b[0m\u001b[33m\n",
            "\u001b[0m"
          ]
        }
      ],
      "source": [
        "!pip install -r requirements.txt"
      ]
    },
    {
      "cell_type": "markdown",
      "metadata": {
        "id": "S-AgItE6z80t"
      },
      "source": [
        "## Download the Dataset\n",
        "\n",
        "First, you will download the JSON file and extract the contents into lists."
      ]
    },
    {
      "cell_type": "code",
      "execution_count": 1,
      "metadata": {
        "id": "k_Wlz9i10Dmn"
      },
      "outputs": [
        {
          "name": "stdout",
          "output_type": "stream",
          "text": [
            "--2024-03-13 13:04:16--  https://storage.googleapis.com/tensorflow-1-public/course3/sarcasm.json\n",
            "Resolving storage.googleapis.com (storage.googleapis.com)... 172.217.19.251, 142.250.181.59, 172.217.17.91, ...\n",
            "Connecting to storage.googleapis.com (storage.googleapis.com)|172.217.19.251|:443... connected.\n",
            "HTTP request sent, awaiting response... 200 OK\n",
            "Length: 5643545 (5.4M) [application/json]\n",
            "Saving to: ‘sarcasm.json.1’\n",
            "\n",
            "sarcasm.json.1      100%[===================>]   5.38M  14.2MB/s    in 0.4s    \n",
            "\n",
            "2024-03-13 13:04:16 (14.2 MB/s) - ‘sarcasm.json.1’ saved [5643545/5643545]\n",
            "\n"
          ]
        }
      ],
      "source": [
        "# Download the dataset\n",
        "!wget https://storage.googleapis.com/tensorflow-1-public/course3/sarcasm.json"
      ]
    },
    {
      "cell_type": "code",
      "execution_count": 2,
      "metadata": {
        "id": "Pr4R0I240GOh"
      },
      "outputs": [],
      "source": [
        "# Load the JSON file\n",
        "import json\n",
        "\n",
        "# Load the JSON file\n",
        "with open(\"./sarcasm.json\", 'r') as f:\n",
        "    datastore = json.load(f)\n",
        "\n",
        "# Initialize the lists\n",
        "sentences = []\n",
        "labels = []\n",
        "\n",
        "# Collect sentences and labels into the lists\n",
        "for item in datastore:\n",
        "    sentences.append(item['headline'])\n",
        "    labels.append(item['is_sarcastic'])"
      ]
    },
    {
      "cell_type": "markdown",
      "metadata": {
        "id": "zN9-ojV55UCR"
      },
      "source": [
        "## Split the Dataset\n",
        "\n",
        "You will then split the lists into train and test sets."
      ]
    },
    {
      "cell_type": "code",
      "execution_count": 3,
      "metadata": {
        "id": "50H0ZrJf035i"
      },
      "outputs": [],
      "source": [
        "training_size = 20000\n",
        "\n",
        "# Split the sentences into training and testing sets\n",
        "training_sentences = sentences[0:training_size]\n",
        "testing_sentences = sentences[training_size:]\n",
        "\n",
        "# Split the labels into training and testing sets\n",
        "training_labels = labels[0:training_size]\n",
        "testing_labels = labels[training_size:]"
      ]
    },
    {
      "cell_type": "markdown",
      "metadata": {
        "id": "MYVNY4tE5YbN"
      },
      "source": [
        "## Data preprocessing\n",
        "\n",
        "Next, you will generate the vocabulary and padded sequences."
      ]
    },
    {
      "cell_type": "code",
      "execution_count": 4,
      "metadata": {
        "id": "hodsUZib1Ce7"
      },
      "outputs": [],
      "source": [
        "import numpy as np\n",
        "from tensorflow.keras.preprocessing.text import Tokenizer\n",
        "from tensorflow.keras.preprocessing.sequence import pad_sequences\n",
        "\n",
        "vocab_size = 10000\n",
        "max_length = 120\n",
        "trunc_type='post'\n",
        "padding_type='post'\n",
        "oov_tok = \"<OOV>\"\n",
        "\n",
        "# Initialize the Tokenizer class\n",
        "tokenizer = Tokenizer(num_words=vocab_size, oov_token=oov_tok)\n",
        "\n",
        "# Generate the word index dictionary\n",
        "tokenizer.fit_on_texts(training_sentences)\n",
        "word_index = tokenizer.word_index\n",
        "\n",
        "# Generate and pad the training sequences\n",
        "training_sequences = tokenizer.texts_to_sequences(training_sentences)\n",
        "training_padded = pad_sequences(training_sequences, maxlen=max_length, padding=padding_type, truncating=trunc_type)\n",
        "\n",
        "# Generate and pad the testing sequences\n",
        "testing_sequences = tokenizer.texts_to_sequences(testing_sentences)\n",
        "testing_padded = pad_sequences(testing_sequences, maxlen=max_length, padding=padding_type, truncating=trunc_type)\n",
        "\n",
        "# Convert the labels lists into numpy arrays\n",
        "training_labels = np.array(training_labels)\n",
        "testing_labels = np.array(testing_labels)"
      ]
    },
    {
      "cell_type": "code",
      "execution_count": 5,
      "metadata": {
        "id": "jGwXGIXvFhXW"
      },
      "outputs": [],
      "source": [
        "import tensorflow as tf\n",
        "\n",
        "# Parameters\n",
        "embedding_dim = 16 # Define the embedding dimension\n",
        "lstm_dim = 32 # Define the LSTM dimension\n",
        "dense_dim = 24 # Define the dense layer dimension\n",
        "NUM_EPOCHS = 10 # Define the number of epochs"
      ]
    },
    {
      "cell_type": "markdown",
      "metadata": {
        "id": "66rd_X78UL8m"
      },
      "source": [
        "## Sample input tensor"
      ]
    },
    {
      "cell_type": "code",
      "execution_count": 6,
      "metadata": {
        "id": "4vzCIcPY7fcy"
      },
      "outputs": [],
      "source": [
        "# Define the sequence length and feature dimension\n",
        "sequence_length = 32  # The number of timesteps in each input sample\n",
        "feature_dim = 16      # The dimensionality of the input features\n",
        "\n",
        "# Create a sample input tensor with random data\n",
        "# The shape is (batch_size, sequence_length, feature_dim)\n",
        "# 'batch_size' can be any integer, representing the number of samples\n",
        "sample_input = np.random.rand(1, max_length).astype(np.float32)\n",
        "\n",
        "# Convert the numpy array to a TensorFlow tensor\n",
        "sample_input_tensor = tf.convert_to_tensor(sample_input)"
      ]
    },
    {
      "cell_type": "code",
      "execution_count": 8,
      "metadata": {
        "id": "JrtzgugW8peT"
      },
      "outputs": [],
      "source": [
        "import ivy\n",
        "import tensorflow as tf\n",
        "import time"
      ]
    },
    {
      "cell_type": "markdown",
      "metadata": {
        "id": "Hkz8H0fHUQGH"
      },
      "source": [
        "# Model Definition with LSTM\n"
      ]
    },
    {
      "cell_type": "code",
      "execution_count": 9,
      "metadata": {
        "id": "dYJ8jh2n5hFw"
      },
      "outputs": [],
      "source": [
        "# Model Definition with LSTM\n",
        "\n",
        "\n",
        "tf_lstm = tf.keras.Sequential([\n",
        "    tf.keras.layers.Embedding(vocab_size, 100, input_length=max_length), # Embedding layer\n",
        "    tf.keras.layers.LSTM(lstm_dim), # LSTM layer\n",
        "    tf.keras.layers.Dense(dense_dim, activation='relu'),  # Dense layer with ReLU activation\n",
        "    tf.keras.layers.Dense(1, activation='sigmoid') # Output layer with sigmoid activation\n",
        "])\n",
        "\n",
        "# Build the model\n",
        "tf_lstm.build(sample_input_tensor.shape)"
      ]
    },
    {
      "cell_type": "markdown",
      "metadata": {
        "id": "3scXqwF7WT_v"
      },
      "source": [
        "## Transpile to torch, ivy.transpile"
      ]
    },
    {
      "cell_type": "code",
      "execution_count": 10,
      "metadata": {
        "id": "GFvnbq8CUZkH"
      },
      "outputs": [
        {
          "name": "stderr",
          "output_type": "stream",
          "text": [
            "/Users/nripeshniketan/Documents - Nripesh’s MacBook Pro/python_programs/demos/venv/lib/python3.10/site-packages/ivy/utils/exceptions.py:383: UserWarning: The current backend: 'tensorflow' does not support inplace updates natively. Ivy would quietly create new arrays when using inplace updates with this backend, leading to memory overhead (same applies for views). If you want to control your memory management, consider doing ivy.set_inplace_mode('strict') which should raise an error whenever an inplace update is attempted with this backend.\n",
            "  warnings.warn(\n",
            "/Users/nripeshniketan/Documents - Nripesh’s MacBook Pro/python_programs/demos/venv/lib/python3.10/site-packages/ivy/compiler/compiler.py:164: UserWarning: `Model.state_updates` will be removed in a future version. This property should not be used in TensorFlow 2.0, as `updates` are applied automatically.\n",
            "  return _transpile(\n",
            "/Users/nripeshniketan/Documents - Nripesh’s MacBook Pro/python_programs/demos/venv/lib/python3.10/site-packages/ivy/compiler/compiler.py:164: UserWarning: `layer.updates` will be removed in a future version. This property should not be used in TensorFlow 2.0, as `updates` are applied automatically.\n",
            "  return _transpile(\n"
          ]
        }
      ],
      "source": [
        " # Transpile the model to PyTorch\n",
        " torch_lstm = ivy.transpile(tf_lstm, source=\"tensorflow\", to=\"torch\", args=(sample_input_tensor,))"
      ]
    },
    {
      "cell_type": "markdown",
      "metadata": {
        "id": "tBtiqkbkW2JW"
      },
      "source": [
        "## Compile the model"
      ]
    },
    {
      "cell_type": "code",
      "execution_count": 11,
      "metadata": {
        "id": "5MYXyB2PUkQv"
      },
      "outputs": [
        {
          "name": "stdout",
          "output_type": "stream",
          "text": [
            "Model: \"sequential\"\n",
            "_________________________________________________________________\n",
            " Layer (type)                Output Shape              Param #   \n",
            "=================================================================\n",
            " embedding (Embedding)       (None, 120, 100)          1000000   \n",
            "                                                                 \n",
            " lstm (LSTM)                 (None, 32)                17024     \n",
            "                                                                 \n",
            " dense (Dense)               (None, 24)                792       \n",
            "                                                                 \n",
            " dense_1 (Dense)             (None, 1)                 25        \n",
            "                                                                 \n",
            "=================================================================\n",
            "Total params: 1017841 (3.88 MB)\n",
            "Trainable params: 1017841 (3.88 MB)\n",
            "Non-trainable params: 0 (0.00 Byte)\n",
            "_________________________________________________________________\n"
          ]
        }
      ],
      "source": [
        "\n",
        "# Set the training parameters\n",
        "tf_lstm.compile(loss='binary_crossentropy',optimizer='adam',metrics=['accuracy'])\n",
        "\n",
        "# Print the model summary\n",
        "tf_lstm.summary()"
      ]
    },
    {
      "cell_type": "code",
      "execution_count": 12,
      "metadata": {
        "id": "xWEeIIYe5SoI"
      },
      "outputs": [
        {
          "name": "stdout",
          "output_type": "stream",
          "text": [
            "Epoch 1/10\n",
            "625/625 [==============================] - 12s 18ms/step - loss: 0.6867 - accuracy: 0.5600 - val_loss: 0.6857 - val_accuracy: 0.5633\n",
            "Epoch 2/10\n",
            "625/625 [==============================] - 11s 18ms/step - loss: 0.6862 - accuracy: 0.5603 - val_loss: 0.6851 - val_accuracy: 0.5633\n",
            "Epoch 3/10\n",
            "625/625 [==============================] - 12s 19ms/step - loss: 0.6861 - accuracy: 0.5603 - val_loss: 0.6854 - val_accuracy: 0.5633\n",
            "Epoch 4/10\n",
            "625/625 [==============================] - 13s 20ms/step - loss: 0.6859 - accuracy: 0.5603 - val_loss: 0.6851 - val_accuracy: 0.5633\n",
            "Epoch 5/10\n",
            "625/625 [==============================] - 13s 20ms/step - loss: 0.6862 - accuracy: 0.5603 - val_loss: 0.6855 - val_accuracy: 0.5633\n",
            "Epoch 6/10\n",
            "625/625 [==============================] - 13s 21ms/step - loss: 0.6861 - accuracy: 0.5603 - val_loss: 0.6852 - val_accuracy: 0.5633\n",
            "Epoch 7/10\n",
            "625/625 [==============================] - 13s 21ms/step - loss: 0.6860 - accuracy: 0.5603 - val_loss: 0.6852 - val_accuracy: 0.5633\n",
            "Epoch 8/10\n",
            "625/625 [==============================] - 13s 21ms/step - loss: 0.6860 - accuracy: 0.5603 - val_loss: 0.6851 - val_accuracy: 0.5633\n",
            "Epoch 9/10\n",
            "625/625 [==============================] - 14s 23ms/step - loss: 0.6860 - accuracy: 0.5603 - val_loss: 0.6852 - val_accuracy: 0.5633\n",
            "Epoch 10/10\n",
            "625/625 [==============================] - 14s 22ms/step - loss: 0.6860 - accuracy: 0.5603 - val_loss: 0.6851 - val_accuracy: 0.5633\n",
            "Total training time: 128.80 seconds\n"
          ]
        }
      ],
      "source": [
        "# Compile the model\n",
        "tf_lstm.compile(loss='binary_crossentropy', optimizer='adam', metrics=['accuracy'])\n",
        "\n",
        "# Start the timer\n",
        "start_time = time.time()\n",
        "# Train the model\n",
        "history = tf_lstm.fit(\n",
        "    training_padded,\n",
        "    training_labels,\n",
        "    epochs=10,\n",
        "    validation_data=(testing_padded, testing_labels)\n",
        ")\n",
        "\n",
        "# End the timer\n",
        "end_time = time.time()\n",
        "\n",
        "# Calculate and print the total time taken\n",
        "tensorflow_time = end_time - start_time\n",
        "print(f'Total training time: {tensorflow_time:.2f} seconds')"
      ]
    },
    {
      "cell_type": "code",
      "execution_count": 13,
      "metadata": {
        "id": "LD6wdTiPPVIO"
      },
      "outputs": [],
      "source": [
        "import torch\n",
        "import torch.nn as nn\n",
        "import torch.optim as optim\n",
        "from torch.utils.data import DataLoader, TensorDataset\n",
        "\n",
        "\n",
        "# Convert the features and labels to PyTorch tensors\n",
        "X_train_tensor = torch.tensor(training_padded, dtype=torch.float32)\n",
        "y_train_tensor = torch.tensor(training_labels, dtype=torch.float32)\n",
        "\n",
        "# Create a Dataset from tensors\n",
        "train_dataset = TensorDataset(X_train_tensor, y_train_tensor)\n",
        "\n",
        "# Define a DataLoader with the dataset\n",
        "train_loader = DataLoader(train_dataset, batch_size=64, shuffle=True)\n",
        "\n",
        "# Define the loss function (Binary Cross-Entropy for binary classification)\n",
        "loss_function = nn.BCELoss()\n",
        "\n",
        "# Define the optimizer (Adam optimizer in this example)\n",
        "optimizer = optim.Adam(torch_lstm.parameters(), lr=0.001)\n"
      ]
    },
    {
      "cell_type": "code",
      "execution_count": 15,
      "metadata": {
        "id": "0dhkQL3sSVaz"
      },
      "outputs": [
        {
          "name": "stdout",
          "output_type": "stream",
          "text": [
            "Epoch 1 completed, Average Loss: 0.6861, Accuracy: 0.5603\n",
            "Epoch 2 completed, Average Loss: 0.6860, Accuracy: 0.5603\n",
            "Epoch 3 completed, Average Loss: 0.6859, Accuracy: 0.5603\n",
            "Epoch 4 completed, Average Loss: 0.6860, Accuracy: 0.5603\n",
            "Epoch 5 completed, Average Loss: 0.6862, Accuracy: 0.5603\n",
            "Epoch 6 completed, Average Loss: 0.6861, Accuracy: 0.5603\n",
            "Epoch 7 completed, Average Loss: 0.6860, Accuracy: 0.5603\n",
            "Epoch 8 completed, Average Loss: 0.6859, Accuracy: 0.5603\n",
            "Epoch 9 completed, Average Loss: 0.6860, Accuracy: 0.5603\n",
            "Epoch 10 completed, Average Loss: 0.6860, Accuracy: 0.5603\n",
            "Total training time: 67.87 seconds\n"
          ]
        }
      ],
      "source": [
        "import time\n",
        "\n",
        "# Start the timer\n",
        "start_time = time.time()\n",
        "\n",
        "# Assuming 'torch_lstm' is your model and 'train_loader' is your DataLoader instance\n",
        "for epoch in range(10):\n",
        "    torch_lstm.train()  # Set the model to training mode\n",
        "    total_loss = 0\n",
        "    correct_predictions = 0\n",
        "    total_predictions = 0\n",
        "\n",
        "    for inputs, targets in train_loader:\n",
        "        optimizer.zero_grad()  # Zero the gradients\n",
        "        outputs = torch_lstm(inputs)  # Forward pass\n",
        "        targets = targets.view(-1, 1)  # Reshape the target to match output shape\n",
        "        loss = loss_function(outputs, targets)  # Compute loss\n",
        "        loss.backward()  # Backward pass\n",
        "        optimizer.step()  # Update parameters\n",
        "\n",
        "        total_loss += loss.item()\n",
        "\n",
        "        # Convert outputs to predicted class (0 or 1) by rounding the sigmoid output\n",
        "        predicted_classes = outputs.round()\n",
        "        correct_predictions += (predicted_classes == targets).sum().item()\n",
        "        total_predictions += targets.size(0)\n",
        "\n",
        "    # Calculate average loss and accuracy\n",
        "    average_loss = total_loss / len(train_loader)\n",
        "    accuracy = correct_predictions / total_predictions\n",
        "\n",
        "    print(f'Epoch {epoch+1} completed, Average Loss: {average_loss:.4f}, Accuracy: {accuracy:.4f}')\n",
        "\n",
        "# End the timer\n",
        "end_time = time.time()\n",
        "\n",
        "# Calculate and print the total time taken\n",
        "torch_time = end_time - start_time\n",
        "print(f'Total training time: {torch_time:.2f} seconds')\n"
      ]
    },
    {
      "cell_type": "code",
      "execution_count": 17,
      "metadata": {
        "id": "B6syB18Hadpi"
      },
      "outputs": [
        {
          "data": {
            "image/png": "[encoded data removed]",
            "text/plain": [
              "<Figure size 640x480 with 1 Axes>"
            ]
          },
          "metadata": {},
          "output_type": "display_data"
        }
      ],
      "source": [
        "import matplotlib.pyplot as plt\n",
        "# Define labels, positions, and time values\n",
        "labels = ['PyTorch', 'TensorFlow']\n",
        "x_pos = np.arange(len(labels))\n",
        "times = [torch_time, tensorflow_time]\n",
        "\n",
        "# Create the bar chart\n",
        "plt.bar(x_pos, times, align='center', alpha=0.7, color=['red', 'blue'])\n",
        "\n",
        "# Add the data values on top of the bars\n",
        "for i, v in enumerate(times):\n",
        "    plt.text(x_pos[i] - 0.1, v + 3, str(v), color='blue', fontweight='bold')\n",
        "\n",
        "# Add labels and title\n",
        "plt.xticks(x_pos, labels)\n",
        "plt.ylabel('Time (seconds)')\n",
        "plt.title('Training Time Comparison')\n",
        "\n",
        "# Show the plot\n",
        "plt.show()"
      ]
    },
    {
      "cell_type": "markdown",
      "metadata": {
        "id": "_ssK8brgb7xA"
      },
      "source": [
        "Using the Ivy framework, the TensorFlow model was seamlessly transpiled into a PyTorch model, allowing for efficient training with similar results to the original TensorFlow model. Remarkably, the training time was significantly reduced from 662.58 seconds to just 264.12 seconds, demonstrating the effectiveness of using Ivy for model conversion and training optimization."
      ]
    }
  ],
  "metadata": {
    "colab": {
      "name": "C3_W3_Lab_5_sarcasm_with_bi_LSTM.ipynb",
      "private_outputs": true,
      "provenance": []
    },
    "kernelspec": {
      "display_name": "Python 3",
      "name": "python3"
    },
    "language_info": {
      "codemirror_mode": {
        "name": "ipython",
        "version": 3
      },
      "file_extension": ".py",
      "mimetype": "text/x-python",
      "name": "python",
      "nbconvert_exporter": "python",
      "pygments_lexer": "ipython3",
      "version": "3.10.13"
    }
  },
  "nbformat": 4,
  "nbformat_minor": 0
}
